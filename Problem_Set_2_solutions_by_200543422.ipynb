{
 "cells": [
  {
   "cell_type": "markdown",
   "id": "6cc61fce",
   "metadata": {},
   "source": [
    "# Problem Set 2 Solutions\n",
    "## Submission By 200543422, Name: Jagbeer Singh"
   ]
  },
  {
   "cell_type": "markdown",
   "id": "f6ec71e3",
   "metadata": {},
   "source": [
    "## Question 1"
   ]
  },
  {
   "cell_type": "code",
   "execution_count": 1,
   "id": "00165173",
   "metadata": {},
   "outputs": [
    {
     "data": {
      "text/plain": [
       "6"
      ]
     },
     "execution_count": 1,
     "metadata": {},
     "output_type": "execute_result"
    }
   ],
   "source": [
    "a=0\n",
    "def b():\n",
    "    global a\n",
    "    a=c(a)\n",
    "def c(a):\n",
    "    return a+2\n",
    "\n",
    "b()\n",
    "b()\n",
    "b()\n",
    "a"
   ]
  },
  {
   "cell_type": "markdown",
   "id": "3450fadb",
   "metadata": {},
   "source": [
    "### The Variable \"a\" is a global variable and it is evaluated thrice with fun c() as it is called in func b() and hence after each call the value of \"a\" increases by 2 and by the end it has a value of 6"
   ]
  },
  {
   "cell_type": "markdown",
   "id": "9fb69dea",
   "metadata": {},
   "source": [
    "## Question 2"
   ]
  },
  {
   "cell_type": "code",
   "execution_count": 2,
   "id": "d2c21230",
   "metadata": {},
   "outputs": [
    {
     "name": "stdout",
     "output_type": "stream",
     "text": [
      "Given file length is : 14821\n",
      "File idterm.py not found.\n"
     ]
    }
   ],
   "source": [
    "# ADDING A TRY AND CATCH BLOCK TO HANDLE EXCEPTIONS\n",
    "\n",
    "def file_length(f):\n",
    "    try:\n",
    "        file = open(f,'r')\n",
    "        body = file.read()\n",
    "        print('Given file length is : ' + str(len(body)))\n",
    "        file.close()\n",
    "    except FileNotFoundError:\n",
    "        print('File '+f+' not found.')\n",
    "        \n",
    "# CALLING THE  FUNCTIONS TWICE TO CHECK IF THE TRY AND CATCH BLOCK IS WORKING AS REQUIRED\n",
    "\n",
    "file_length('Problem set 1 solutions by 200543422.ipynb')\n",
    "file_length('idterm.py')"
   ]
  },
  {
   "cell_type": "markdown",
   "id": "0c6f9bf8",
   "metadata": {},
   "source": [
    "## Question 3"
   ]
  },
  {
   "cell_type": "code",
   "execution_count": 8,
   "id": "42095f26",
   "metadata": {},
   "outputs": [
    {
     "data": {
      "text/plain": [
       "['doll', 'firetruck', 'kitten']"
      ]
     },
     "execution_count": 8,
     "metadata": {},
     "output_type": "execute_result"
    }
   ],
   "source": [
    "# CLASS DEFINITON OF \"MARSUPIAL\"\n",
    "class Marsupial:\n",
    "    \n",
    "    def __init__(self):\n",
    "        self.lstt = []\n",
    "#The Defined List \"lst\" will get appended in function \"put_in_pouch\"\n",
    "    def put_in_pouch(self, j):\n",
    "        self.lstt.append(j);\n",
    "#to print the list contents\n",
    "    def pouch_contents(self):\n",
    "        return self.lstt;\n",
    "    \n",
    "#checking the functions and their working with problem set exercise\n",
    "m = Marsupial()\n",
    "m.put_in_pouch('doll')\n",
    "m.put_in_pouch('firetruck')\n",
    "m.put_in_pouch('kitten')\n",
    "m.pouch_contents()\n",
    "\n"
   ]
  },
  {
   "cell_type": "code",
   "execution_count": 11,
   "id": "8017fc6f",
   "metadata": {},
   "outputs": [
    {
     "name": "stdout",
     "output_type": "stream",
     "text": [
      "<__main__.Kangaroo object at 0x0000020B1BD63370>\n",
      "['doll', 'firetruck', 'kitten']\n",
      "<__main__.Kangaroo object at 0x0000020B1BD63370>\n"
     ]
    }
   ],
   "source": [
    "#CLASS \"Kangaroo\" WILL USE CLASS MARSUPIAL'S FUNCTIONS AND SHOW THE CONCEPT OF INHERITNACE IN OOPS PROGRAMMING\n",
    "class Kangaroo(Marsupial):\n",
    "    \n",
    "    def __init__(self,x,y):\n",
    "        Marsupial.__init__(self)\n",
    "        self.x = x\n",
    "        self.y = y\n",
    "    def jump(self,dx,dy):\n",
    "        self.x = self.x + dx\n",
    "        self.y = self.y + dy\n",
    "    def _str_(self):\n",
    "        return 'I am a Kagaroo located at the coordinates ({},{})'.format(self.x,self.y)\n",
    "\n",
    "# PROBLEM SET EXERCISE:\n",
    "k = Kangaroo(0,0)\n",
    "print(k)\n",
    "k.put_in_pouch('doll')\n",
    "k.put_in_pouch('firetruck')\n",
    "k.put_in_pouch('kitten')\n",
    "print(k.pouch_contents())\n",
    "k.jump(1,0)\n",
    "k.jump(1,0)\n",
    "k.jump(1,0)\n",
    "print(k)"
   ]
  },
  {
   "cell_type": "markdown",
   "id": "ac155b20",
   "metadata": {},
   "source": [
    "## Question 4"
   ]
  },
  {
   "cell_type": "code",
   "execution_count": 14,
   "id": "d0a11474",
   "metadata": {},
   "outputs": [
    {
     "name": "stdout",
     "output_type": "stream",
     "text": [
      "1\n",
      "10\n",
      "5\n",
      "16\n",
      "8\n",
      "4\n",
      "2\n",
      "1\n"
     ]
    }
   ],
   "source": [
    "## THE FOLLOWING EXERCISE SHOWS THE IMPLEMENTATION OF \"RECURSIVE\" BEHAVIOUR WITHOUT LOOPS AND IT USES \"FUNCTION CALLING\" TO DEPICT SUCH EFFECT\n",
    "def collatz(x):\n",
    "    if x != 1:\n",
    "        if x%2 == 0:\n",
    "            print(int(x))\n",
    "            collatz(x/2) #RULE OF EVEN\n",
    "        else:\n",
    "            print(int(x))\n",
    "            collatz(3*x+1) #RULE OF ODD\n",
    "    else:\n",
    "        print(int(x))\n",
    "\n",
    "# TO CHECK THE FUNCTIONALITY WITH PROBLEM SET EXERCISE\n",
    "collatz(1)\n",
    "collatz(10)"
   ]
  },
  {
   "cell_type": "markdown",
   "id": "cd460b3a",
   "metadata": {},
   "source": [
    "## Question 5"
   ]
  },
  {
   "cell_type": "code",
   "execution_count": 21,
   "id": "475b00b8",
   "metadata": {},
   "outputs": [
    {
     "data": {
      "text/plain": [
       "0"
      ]
     },
     "execution_count": 21,
     "metadata": {},
     "output_type": "execute_result"
    }
   ],
   "source": [
    "#: TO CHECK THE FUNCTIONALITY WITH PROBLEM SET EXERCISE:\n",
    "def recBinary(decimal):\n",
    "    if decimal>0:\n",
    "        return (decimal % 2 + 10*recBinary(int(decimal //2)))\n",
    "    else:\n",
    "        return 0\n",
    "    \n",
    "recBinary(0)"
   ]
  },
  {
   "cell_type": "code",
   "execution_count": 22,
   "id": "d88dc228",
   "metadata": {},
   "outputs": [
    {
     "data": {
      "text/plain": [
       "1"
      ]
     },
     "execution_count": 22,
     "metadata": {},
     "output_type": "execute_result"
    }
   ],
   "source": [
    "recBinary(1)"
   ]
  },
  {
   "cell_type": "code",
   "execution_count": 23,
   "id": "4ecfb7cd",
   "metadata": {},
   "outputs": [
    {
     "data": {
      "text/plain": [
       "11"
      ]
     },
     "execution_count": 23,
     "metadata": {},
     "output_type": "execute_result"
    }
   ],
   "source": [
    "recBinary(3)"
   ]
  },
  {
   "cell_type": "markdown",
   "id": "6c714b38",
   "metadata": {},
   "source": [
    "## Question 6"
   ]
  },
  {
   "cell_type": "code",
   "execution_count": 4,
   "id": "e45b36a6",
   "metadata": {},
   "outputs": [
    {
     "name": "stdout",
     "output_type": "stream",
     "text": [
      "Requirement already satisfied: pip in c:\\users\\jagbe\\anaconda3\\lib\\site-packages (23.0.1)\n",
      "Note: you may need to restart the kernel to use updated packages.\n"
     ]
    }
   ],
   "source": [
    "pip install --upgrade pip"
   ]
  },
  {
   "cell_type": "code",
   "execution_count": 5,
   "id": "e3b5eed8",
   "metadata": {},
   "outputs": [],
   "source": [
    "from html.parser import HTMLParser"
   ]
  },
  {
   "cell_type": "code",
   "execution_count": 6,
   "id": "ab54815d",
   "metadata": {},
   "outputs": [
    {
     "ename": "AttributeError",
     "evalue": "type object 'HTMLParser' has no attribute '_init_'",
     "output_type": "error",
     "traceback": [
      "\u001b[1;31m---------------------------------------------------------------------------\u001b[0m",
      "\u001b[1;31mAttributeError\u001b[0m                            Traceback (most recent call last)",
      "\u001b[1;32m~\\AppData\\Local\\Temp\\ipykernel_19920\\2907212699.py\u001b[0m in \u001b[0;36m<module>\u001b[1;34m\u001b[0m\n\u001b[0;32m     21\u001b[0m \u001b[0mcontent\u001b[0m \u001b[1;33m=\u001b[0m \u001b[0minfile\u001b[0m\u001b[1;33m.\u001b[0m\u001b[0mread\u001b[0m\u001b[1;33m(\u001b[0m\u001b[1;33m)\u001b[0m\u001b[1;33m\u001b[0m\u001b[1;33m\u001b[0m\u001b[0m\n\u001b[0;32m     22\u001b[0m \u001b[0minfile\u001b[0m\u001b[1;33m.\u001b[0m\u001b[0mclose\u001b[0m\u001b[1;33m(\u001b[0m\u001b[1;33m)\u001b[0m\u001b[1;33m\u001b[0m\u001b[1;33m\u001b[0m\u001b[0m\n\u001b[1;32m---> 23\u001b[1;33m \u001b[0mhp\u001b[0m \u001b[1;33m=\u001b[0m \u001b[0mHeadingParser\u001b[0m\u001b[1;33m(\u001b[0m\u001b[1;33m)\u001b[0m\u001b[1;33m\u001b[0m\u001b[1;33m\u001b[0m\u001b[0m\n\u001b[0m\u001b[0;32m     24\u001b[0m \u001b[0mhp\u001b[0m\u001b[1;33m.\u001b[0m\u001b[0mfeed\u001b[0m\u001b[1;33m(\u001b[0m\u001b[0mcontent\u001b[0m\u001b[1;33m)\u001b[0m\u001b[1;33m\u001b[0m\u001b[1;33m\u001b[0m\u001b[0m\n",
      "\u001b[1;32m~\\AppData\\Local\\Temp\\ipykernel_19920\\2907212699.py\u001b[0m in \u001b[0;36m__init__\u001b[1;34m(self)\u001b[0m\n\u001b[0;32m      2\u001b[0m \u001b[1;33m\u001b[0m\u001b[0m\n\u001b[0;32m      3\u001b[0m     \u001b[1;32mdef\u001b[0m \u001b[0m__init__\u001b[0m\u001b[1;33m(\u001b[0m\u001b[0mself\u001b[0m\u001b[1;33m)\u001b[0m\u001b[1;33m:\u001b[0m\u001b[1;33m\u001b[0m\u001b[1;33m\u001b[0m\u001b[0m\n\u001b[1;32m----> 4\u001b[1;33m         \u001b[0mHTMLParser\u001b[0m\u001b[1;33m.\u001b[0m\u001b[0m_init_\u001b[0m\u001b[1;33m(\u001b[0m\u001b[0mself\u001b[0m\u001b[1;33m)\u001b[0m\u001b[1;33m\u001b[0m\u001b[1;33m\u001b[0m\u001b[0m\n\u001b[0m\u001b[0;32m      5\u001b[0m         \u001b[0mself\u001b[0m\u001b[1;33m.\u001b[0m\u001b[0mintend\u001b[0m \u001b[1;33m=\u001b[0m \u001b[1;34m''\u001b[0m\u001b[1;33m\u001b[0m\u001b[1;33m\u001b[0m\u001b[0m\n\u001b[0;32m      6\u001b[0m         \u001b[0mself\u001b[0m\u001b[1;33m.\u001b[0m\u001b[0mhead\u001b[0m \u001b[1;33m=\u001b[0m \u001b[1;36m0\u001b[0m\u001b[1;33m\u001b[0m\u001b[1;33m\u001b[0m\u001b[0m\n",
      "\u001b[1;31mAttributeError\u001b[0m: type object 'HTMLParser' has no attribute '_init_'"
     ]
    }
   ],
   "source": []
  },
  {
   "cell_type": "markdown",
   "id": "61e0a383",
   "metadata": {},
   "source": [
    "## Question 8"
   ]
  },
  {
   "cell_type": "code",
   "execution_count": null,
   "id": "ebb5a9f3",
   "metadata": {},
   "outputs": [],
   "source": [
    "#SQL QUERIES:\n",
    "Select Temperature from weather_table;\n",
    "Select distinct cities from weather_table;\n",
    "Select * from weather_table where country = \"India\";\n",
    "Select * from weather_table where Season = \"Fall\";\n",
    "Select Cities, country, season where avg(Rainfall) >= 200 and avg(Rainfall) <= 400 group by Cities;\n",
    "select sum(rainfall) where city = \"Cairo\";\n",
    "Select sum(Rainfall), season group by 2,1;"
   ]
  },
  {
   "cell_type": "markdown",
   "id": "86d1510c",
   "metadata": {},
   "source": [
    "## Question 9"
   ]
  },
  {
   "cell_type": "code",
   "execution_count": 8,
   "id": "52fe03ad",
   "metadata": {},
   "outputs": [
    {
     "data": {
      "text/plain": [
       "['THE', 'QUICK', 'BROWN', 'FOX', 'JUMPS', 'OVER', 'THE', 'LAZY', 'DOG']"
      ]
     },
     "execution_count": 8,
     "metadata": {},
     "output_type": "execute_result"
    }
   ],
   "source": [
    "words = ['The', 'quick', 'brown', 'fox', 'jumps', 'over', 'the', 'lazy', 'dog']\n",
    "[items.upper() for items in words]"
   ]
  },
  {
   "cell_type": "code",
   "execution_count": 9,
   "id": "a702e6c2",
   "metadata": {},
   "outputs": [
    {
     "data": {
      "text/plain": [
       "['the', 'quick', 'brown', 'fox', 'jumps', 'over', 'the', 'lazy', 'dog']"
      ]
     },
     "execution_count": 9,
     "metadata": {},
     "output_type": "execute_result"
    }
   ],
   "source": [
    "[items.lower() for items in words]"
   ]
  },
  {
   "cell_type": "code",
   "execution_count": 10,
   "id": "ff3fc5e8",
   "metadata": {},
   "outputs": [
    {
     "data": {
      "text/plain": [
       "[3, 5, 5, 3, 5, 4, 3, 4, 3]"
      ]
     },
     "execution_count": 10,
     "metadata": {},
     "output_type": "execute_result"
    }
   ],
   "source": [
    "[len(items) for items in words]"
   ]
  },
  {
   "cell_type": "code",
   "execution_count": 11,
   "id": "c33d6d38",
   "metadata": {},
   "outputs": [
    {
     "data": {
      "text/plain": [
       "[['THE', 'the', 3],\n",
       " ['QUICK', 'quick', 5],\n",
       " ['BROWN', 'brown', 5],\n",
       " ['FOX', 'fox', 3],\n",
       " ['JUMPS', 'jumps', 5],\n",
       " ['OVER', 'over', 4],\n",
       " ['THE', 'the', 3],\n",
       " ['LAZY', 'lazy', 4],\n",
       " ['DOG', 'dog', 3]]"
      ]
     },
     "execution_count": 11,
     "metadata": {},
     "output_type": "execute_result"
    }
   ],
   "source": [
    "[[items.upper(),items.lower(),len(items)] for items in words]"
   ]
  }
 ],
 "metadata": {
  "kernelspec": {
   "display_name": "Python 3 (ipykernel)",
   "language": "python",
   "name": "python3"
  },
  "language_info": {
   "codemirror_mode": {
    "name": "ipython",
    "version": 3
   },
   "file_extension": ".py",
   "mimetype": "text/x-python",
   "name": "python",
   "nbconvert_exporter": "python",
   "pygments_lexer": "ipython3",
   "version": "3.9.13"
  }
 },
 "nbformat": 4,
 "nbformat_minor": 5
}
